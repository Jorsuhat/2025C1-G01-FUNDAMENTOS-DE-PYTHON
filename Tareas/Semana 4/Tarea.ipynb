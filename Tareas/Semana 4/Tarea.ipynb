{
 "cells": [
  {
   "cell_type": "markdown",
   "metadata": {
    "id": "q7R3dARlFtDY"
   },
   "source": [
    "# Segundo análisis de casos – Fundamentos de Python\n",
    "\n",
    "## Objetivo:\n",
    "En esta tarea, practicaremos los fundamentos básicos de Python resolviendo **cuatro ejercicios** de la lista planteada. Cada solución debe detallar **entradas**, **procesos** y **salidas** para comprender mejor cómo funciona cada problema.\n",
    "\n",
    "### Formato para cada ejercicio (seleccionemos 4 ejercicios):\n",
    "#### Ejercicio X:\n",
    "- **Descripción del problema:** Incluiremos el enunciado del ejercicio.\n",
    "- **Entradas:** Detallaremos los datos que debemos ingresar.\n",
    "- **Proceso:** Explicaremos cómo resolveremos el problema (algoritmo o fórmula).\n",
    "- **Salidas:** Describiremos el resultado que veremos en pantalla al final del proceso.\n",
    "\n",
    "#### Código del ejercicio:\n",
    "- Escribiremos la solución del ejercicio en una celda de código Python.\n",
    "- Agregaremos comentarios para explicar el código y hacerlo más comprensible.\n",
    "\n",
    "### Conclusión:\n",
    "- Al final, resumiremos lo que hemos aprendido resolviendo los ejercicios.\n",
    "- Reflexionaremos sobre cómo Python nos ayuda a solucionar problemas cotidianos.\n",
    "\n",
    "## Formato de entrega del informe en PDF:\n",
    "\n",
    "Debemos exportar nuestro notebook de Jupyter a formato PDF, cumpliendo con las siguientes pautas:\n",
    "\n",
    "### Portada:\n",
    "- Título: \"Primer análisis de casos – Fundamentos de Python\".\n",
    "- Nombre: Jorsuhat Perez Salas\n",
    "- Fecha de entrega: 18/2/2025\n",
    "- Curso: Fundamentos de Python.\n",
    "\n",
    "### Cuerpo del informe:\n",
    "- **Introducción:** Explicaremos brevemente los ejercicios que hemos seleccionado.\n",
    "- **Desarrollo de cada ejercicio:**\n",
    "  - Descripción del problema.\n",
    "  - Entradas, procesos y salidas detallados.\n",
    "  - Capturas de pantalla del código y del resultado de la ejecución.\n",
    "\n",
    "### Conclusión:\n",
    "- Reflexionaremos sobre el aprendizaje y las posibles dificultades que enfrentamos durante la resolución de los ejercicios.\n",
    "\n",
    "## Lista de ejercicios (Seleccionemos 4):\n",
    "\n",
    "1. Calcular el área de un triángulo a partir de la base y altura ingresadas.\n",
    "2. Convertir una cantidad de dólares a colones.\n",
    "3. Convertir grados centígrados a Fahrenheit.\n",
    "4. Mostrar cuántos segundos tiene un lustro.\n",
    "5. Calcular el tiempo que le toma a la luz viajar del sol a Marte.\n",
    "6. Calcular cuántas vueltas da una llanta en 1 km.\n",
    "7. Calcular la longitud de la sombra de un edificio de 20 metros.\n",
    "8. Comparar si la edad ingresada por dos usuarios es la misma.\n",
    "9. Calcular cuántos meses han transcurrido desde nuestra fecha de nacimiento.\n",
    "10. Calcular el promedio de un alumno en 5 materias.\n",
    "\n",
    "## Proceso de entrega:\n",
    "1. Resolveremos 4 de los ejercicios propuestos en un notebook de.\n",
    "2. Exportaremos el notebook a PDF siguiendo el formato establecido.\n",
    "3. Subiremos el PDF y el archivo de notebook (.ipynb) a la plataforma antes de la fecha límite.\n"
   ]
  },
  {
   "cell_type": "markdown",
   "metadata": {},
   "source": [
    "# Problema #1\n",
    "\n",
    "### Convertir una cantidad de dólares a colones.\n",
    "\n",
    "## Entrada: \n",
    "Leer La cantidad de dolares\n",
    "Leer tipo cambio\n",
    "\n",
    "## Proceso:\n",
    "\n",
    "cantidad_dolares * tipo_cambio\n",
    "\n",
    "## Salida:\n",
    "\n",
    "resultado de la multiplicacion"
   ]
  },
  {
   "cell_type": "code",
   "execution_count": 1,
   "metadata": {
    "colab": {
     "base_uri": "https://localhost:8080/"
    },
    "executionInfo": {
     "elapsed": 10485,
     "status": "ok",
     "timestamp": 1712064323417,
     "user": {
      "displayName": "Andrés Mena Abarca",
      "userId": "07418092259593836578"
     },
     "user_tz": 360
    },
    "id": "n3rOsUESDeTs",
    "outputId": "1cd40ed7-f1d2-4b89-bca5-696418df0021"
   },
   "outputs": [
    {
     "name": "stdout",
     "output_type": "stream",
     "text": [
      "El monto de cambio total de $300.0 * ₡499.0 es: ₡149700.0 colones\n"
     ]
    }
   ],
   "source": [
    "# Código solución aqui\n",
    "# Problema #1\n",
    "### Convertir una cantidad de dolares a colones.\n",
    "## Entrada:\n",
    "\t\n",
    "#leer la cantidad de dolares\n",
    "#leer tipo cambio\n",
    "\n",
    "##Proceso:\n",
    "#cantidad de dolares * tipo de cambio\n",
    "#Salida:\n",
    "#resultado de la multiplicacion\n",
    "\n",
    "dolares = float(input('Digite la cantidad de dolares que quiere cambiar a colones: '))\n",
    "cambio = float(input('Digite el tipo de cambio de su banco: '))\n",
    "\n",
    "resultado = dolares * cambio\n",
    "\n",
    "print(f'El monto de cambio total de ${dolares} * ₡{cambio} es: ₡{resultado} colones')"
   ]
  },
  {
   "cell_type": "markdown",
   "metadata": {},
   "source": [
    "# Problema #2\n",
    "\n",
    "### Calcular cuantos meses han transcurrido desde nuestra fecha de nacimiento.\n",
    "\n",
    "## Entrada:\n",
    "leer año actual\n",
    "\n",
    "leer año de nacimiento\n",
    "\n",
    "leer mes actual\n",
    "\n",
    "leer mes de nascimiento\n",
    "\n",
    "## Proceso:\n",
    "Meses transcurridos = (año actual - año de nacimiento) * 12 + (mes actual - mes de nacimiento)\n",
    "\n",
    "## Salida:\n",
    "Meses transcurridos"
   ]
  },
  {
   "cell_type": "code",
   "execution_count": 2,
   "metadata": {},
   "outputs": [
    {
     "name": "stdout",
     "output_type": "stream",
     "text": [
      "El total de meses transcurridos desde su nacimiento en el mes 11 del año 2000 hasta la actualidad es: 291\n"
     ]
    }
   ],
   "source": [
    "# Código solucción aqui\n",
    "\n",
    "# Problema #2\n",
    "### Calcular cuantos meses han transcurrido desde nuestra fecha de nacimiento.\n",
    "## Entrada:\n",
    "\t\n",
    "#leer año actual\n",
    "#leer año de nacimiento\n",
    "#leer mes actual\n",
    "#leer mes de nascimiento\n",
    "\n",
    "##Proceso: \n",
    "#Meses transcurridos = (año actual - año de nacimiento) * 12 + (mes actual - mes de nacimiento)\n",
    "\n",
    "#Salida: \n",
    "#Meses transcurridos\n",
    "#resultado \n",
    "\n",
    "mes_de_nacimiento = int(input('Digite su mes de nacimiento: '))\n",
    "año_de_nacimiento = int(input('Ingrese el su año de nacimiento: '))\n",
    "año_actual = int(input('Ingrese el año actual: '))\n",
    "mes_actual = int(input('Ingrese el mes actual: '))\n",
    "\n",
    "meses_transcurridos = (año_actual - año_de_nacimiento) * 12 + (mes_actual - mes_de_nacimiento)\n",
    "\n",
    "print(f'El total de meses transcurridos desde su nacimiento en el mes {mes_de_nacimiento} del año {año_de_nacimiento} hasta la actualidad es: {meses_transcurridos}')"
   ]
  },
  {
   "cell_type": "markdown",
   "metadata": {},
   "source": [
    "# Problema #3\n",
    "\n",
    "### Convertir grados centigrados a farenheit.\n",
    "\n",
    "## Entrada:\n",
    "leer centigrados\n",
    "\n",
    "## Proceso:\n",
    "hay que usar la libreria de Fractions para llevar a cabo la formula de conversion, \n",
    "\n",
    "farenheit = (centigrados * fraction(9, 5)) + 32\n",
    "\n",
    "## Salida:\n",
    "\n",
    "resultado en grados ferenheit"
   ]
  },
  {
   "cell_type": "code",
   "execution_count": null,
   "metadata": {},
   "outputs": [],
   "source": [
    "# Código solucción aqui\n",
    "# Problema #3\n",
    "### Convertir grados centigrados a farenheit.\n",
    "## Entrada:\n",
    "\t\n",
    "#leer centigrados\n",
    "\n",
    "##Proceso:\n",
    "#hay que usar la libreria de Fractions para llevar a cabo la formula de conversion\n",
    "#farenheit = (centigrados * fraction(9, 5)) + 32\n",
    "\n",
    "#\n",
    "#Salida:\n",
    "#resultado \n",
    "\n",
    "centigrados = int(input('Ingrese los grados centigrados que desea comvertir a grados farenheit: '))\n",
    "\n",
    "from fractions import Fraction\n",
    "farenheit = (centigrados * Fraction(9, 5)) + 32\n",
    "\n",
    "print(f'La conversion de {centigrados}°C equivale a {farenheit}°F')\n"
   ]
  },
  {
   "cell_type": "markdown",
   "metadata": {},
   "source": [
    "# Problema #4\n",
    "\n",
    "### Definir problema\n",
    "\n",
    "## Entrada:\n",
    "\n",
    "## Proceso:\n",
    "\n",
    "## Salida:"
   ]
  },
  {
   "cell_type": "code",
   "execution_count": 4,
   "metadata": {},
   "outputs": [],
   "source": [
    "# Código solucción aqui"
   ]
  }
 ],
 "metadata": {
  "colab": {
   "provenance": []
  },
  "kernelspec": {
   "display_name": "Python 3",
   "name": "python3"
  },
  "language_info": {
   "codemirror_mode": {
    "name": "ipython",
    "version": 3
   },
   "file_extension": ".py",
   "mimetype": "text/x-python",
   "name": "python",
   "nbconvert_exporter": "python",
   "pygments_lexer": "ipython3",
   "version": "3.13.2"
  }
 },
 "nbformat": 4,
 "nbformat_minor": 0
}
